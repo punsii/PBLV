{
 "cells": [
  {
   "cell_type": "markdown",
   "metadata": {},
   "source": [
    "# Notebook Gruppe 5\n",
    "## Bibliotheken importieren"
   ]
  },
  {
   "cell_type": "code",
   "execution_count": 1,
   "metadata": {},
   "outputs": [],
   "source": [
    "%matplotlib notebook\n",
    "import generator\n",
    "import numpy as np\n",
    "import tensorflow as tf\n",
    "import matplotlib.pyplot as plt\n",
    "from tensorflow import keras\n",
    "from ipywidgets import *"
   ]
  },
  {
   "cell_type": "markdown",
   "metadata": {},
   "source": [
    "## Trainingsdaten initialisieren"
   ]
  },
  {
   "cell_type": "code",
   "execution_count": 2,
   "metadata": {},
   "outputs": [],
   "source": [
    "dimension_count = 2\n",
    "sensor_count = 3\n",
    "sensors = np.array([[0.0, 0.0], [0.0, 1.0], [1.0, 0.0]])\n",
    "targets = generator.generate_targets(60000, 2)\n",
    "distances = generator.shitty_apply_sensors_on_targets(targets, sensors)\n"
   ]
  },
  {
   "cell_type": "markdown",
   "metadata": {},
   "source": [
    "## Model kompilieren"
   ]
  },
  {
   "cell_type": "code",
   "execution_count": 3,
   "metadata": {},
   "outputs": [],
   "source": [
    "model = keras.Sequential([\n",
    "        keras.layers.Dense(20 * sensor_count, activation=tf.nn.relu, input_shape=(sensor_count,)),\n",
    "        keras.layers.Dense(20 * sensor_count, activation=tf.nn.softmax),\n",
    "        keras.layers.Dense(dimension_count)\n",
    "    ])\n",
    "model.compile(\n",
    "    optimizer=\"adam\",\n",
    "    loss=\"mse\",\n",
    "    metrics=[\"mae\", \"mse\"]\n",
    ")"
   ]
  },
  {
   "cell_type": "markdown",
   "metadata": {},
   "source": [
    "## Model trainieren"
   ]
  },
  {
   "cell_type": "code",
   "execution_count": 4,
   "metadata": {},
   "outputs": [
    {
     "name": "stdout",
     "output_type": "stream",
     "text": [
      "Epoch 1/10\n",
      "60000/60000 [==============================] - 2s 37us/step - loss: 0.0191 - mean_absolute_error: 0.0650 - mean_squared_error: 0.0191\n",
      "Epoch 2/10\n",
      "60000/60000 [==============================] - 2s 32us/step - loss: 1.0796e-04 - mean_absolute_error: 0.0078 - mean_squared_error: 1.0796e-04\n",
      "Epoch 3/10\n",
      "60000/60000 [==============================] - 2s 33us/step - loss: 3.6637e-05 - mean_absolute_error: 0.0048 - mean_squared_error: 3.6637e-05\n",
      "Epoch 4/10\n",
      "60000/60000 [==============================] - 2s 34us/step - loss: 2.6299e-05 - mean_absolute_error: 0.0041 - mean_squared_error: 2.6299e-05\n",
      "Epoch 5/10\n",
      "60000/60000 [==============================] - 2s 33us/step - loss: 1.9669e-05 - mean_absolute_error: 0.0035 - mean_squared_error: 1.9669e-05\n",
      "Epoch 6/10\n",
      "60000/60000 [==============================] - 2s 33us/step - loss: 1.6219e-05 - mean_absolute_error: 0.0031 - mean_squared_error: 1.6219e-05\n",
      "Epoch 7/10\n",
      "60000/60000 [==============================] - 2s 33us/step - loss: 1.4011e-05 - mean_absolute_error: 0.0029 - mean_squared_error: 1.4011e-05\n",
      "Epoch 8/10\n",
      "60000/60000 [==============================] - 2s 33us/step - loss: 1.2269e-05 - mean_absolute_error: 0.0027 - mean_squared_error: 1.2269e-05\n",
      "Epoch 9/10\n",
      "60000/60000 [==============================] - 2s 33us/step - loss: 1.1745e-05 - mean_absolute_error: 0.0026 - mean_squared_error: 1.1745e-05\n",
      "Epoch 10/10\n",
      "60000/60000 [==============================] - 2s 34us/step - loss: 1.0560e-05 - mean_absolute_error: 0.0025 - mean_squared_error: 1.0560e-05\n"
     ]
    },
    {
     "data": {
      "text/plain": [
       "<tensorflow.python.keras.callbacks.History at 0x29b7fe8dc50>"
      ]
     },
     "execution_count": 4,
     "metadata": {},
     "output_type": "execute_result"
    }
   ],
   "source": [
    "model.fit(distances, targets, epochs=10)"
   ]
  },
  {
   "cell_type": "markdown",
   "metadata": {},
   "source": [
    "## Visualisierung\n",
    "### Vorhergesagte Position vs tatsächliche Position\n",
    "- Grüne Dreiecke ≙ Sensoren\n",
    "- Blauer Kreis ≙ tatsächliche Position\n",
    "    - Lässt sich festlegen durch Klicken des Diagramms\n",
    "- Rotes Kreuz ≙ vorhergesagte Position"
   ]
  },
  {
   "cell_type": "code",
   "execution_count": 7,
   "metadata": {},
   "outputs": [
    {
     "data": {
      "text/plain": [
       "<IPython.core.display.Javascript object>"
      ]
     },
     "metadata": {},
     "output_type": "display_data"
    },
    {
     "data": {
      "text/html": [
       "<img src=\"data:image/png;base64,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\" width=\"640\">"
      ],
      "text/plain": [
       "<IPython.core.display.HTML object>"
      ]
     },
     "metadata": {},
     "output_type": "execute_result"
    },
    {
     "data": {
      "text/plain": [
       "6"
      ]
     },
     "execution_count": 7,
     "metadata": {},
     "output_type": "execute_result"
    }
   ],
   "source": [
    "initial_target = np.array([0.5, 0.5])\n",
    "initial_distance = generator.calculate_shitty_distances(initial_target, sensors)\n",
    "initial_prediction = model.predict(np.array([initial_distance]))[0]\n",
    "\n",
    "fig = plt.figure()\n",
    "ax = fig.add_subplot(1, 1, 1)\n",
    "\n",
    "ax.plot(sensors[:, 0], sensors[:, 1], \"g^\")\n",
    "target_plot, = ax.plot(initial_target[0], initial_target[1], \"bo\")\n",
    "prediction_plot, = ax.plot(initial_prediction[0], initial_prediction[1], \"rx\")\n",
    "\n",
    "\n",
    "def update(x, y):\n",
    "    target = np.array([x, y])\n",
    "    distance = generator.calculate_shitty_distances(target, sensors)\n",
    "    prediction = model.predict(np.array([distance]))[0]\n",
    "    \n",
    "    target_plot.set_xdata(target[0])\n",
    "    target_plot.set_ydata(target[1])\n",
    "    prediction_plot.set_xdata(prediction[0])\n",
    "    prediction_plot.set_ydata(prediction[1])\n",
    "    fig.canvas.draw()\n",
    "    \n",
    "    \n",
    "def onclick(event):\n",
    "    x, y = event.xdata, event.ydata\n",
    "    if x >= 0.0 and x <= 1.0 and y >= 0.0 and y <= 1.0:\n",
    "        update(event.xdata, event.ydata)\n",
    "\n",
    "fig.canvas.mpl_connect('button_press_event', onclick)\n"
   ]
  },
  {
   "cell_type": "code",
   "execution_count": null,
   "metadata": {},
   "outputs": [],
   "source": []
  }
 ],
 "metadata": {
  "kernelspec": {
   "display_name": "Python 3",
   "language": "python",
   "name": "python3"
  },
  "language_info": {
   "codemirror_mode": {
    "name": "ipython",
    "version": 3
   },
   "file_extension": ".py",
   "mimetype": "text/x-python",
   "name": "python",
   "nbconvert_exporter": "python",
   "pygments_lexer": "ipython3",
   "version": "3.6.8"
  }
 },
 "nbformat": 4,
 "nbformat_minor": 1
}
